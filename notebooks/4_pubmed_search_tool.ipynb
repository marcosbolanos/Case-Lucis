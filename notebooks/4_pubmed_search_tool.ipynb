{
 "cells": [
  {
   "cell_type": "markdown",
   "id": "ff344612",
   "metadata": {},
   "source": [
    "# PubMed Search tool\n",
    "\n",
    "The pubmed search tool itself will use Claude to conduct literature searches, which will allow it to formulate advanced queries in a smart way !"
   ]
  },
  {
   "cell_type": "code",
   "execution_count": 1,
   "id": "8a8c487f",
   "metadata": {},
   "outputs": [],
   "source": [
    "import os\n",
    "import sys\n",
    "import json\n",
    "from dotenv import load_dotenv\n",
    "\n",
    "# Get the current working directory (where the notebook is running)\n",
    "cwd = os.getcwd()\n",
    "\n",
    "# Add the backend directory to sys.path\n",
    "sys.path.append(os.path.join(cwd, '..'))\n",
    "from src.tools.utils import (\n",
    "    formulate_pico, \n",
    "    run_parallel_mesh_queries, \n",
    "    formulate_esearch_query, \n",
    "    esearch_abstracts, \n",
    "    efetch_query_with_key,\n",
    "    answer_from_abstracts,\n",
    "    simple_research_pipeline\n",
    ")"
   ]
  },
  {
   "cell_type": "code",
   "execution_count": 2,
   "id": "09ab8e1f",
   "metadata": {},
   "outputs": [],
   "source": [
    "load_dotenv()\n",
    "\n",
    "with open(\"../data/metrics_only.csv\", \"r\", encoding=\"utf-8\") as f:\n",
    "    csv_string = f.read()\n",
    "\n",
    "patient_info=\"\"\"\n",
    "    PATIENT CHARACTERISTICS\n",
    "    sex: Male\n",
    "    age: 32\n",
    "    height: 177cm\n",
    "    weight: 72KG\n",
    "    \"\"\"\n",
    "\n",
    "context = patient_info + \"\\n\\n\" + csv_string\n",
    "\n",
    "\n",
    "research_question = 'Strategies to increase HDL cholesterol in adult males'"
   ]
  },
  {
   "cell_type": "code",
   "execution_count": 3,
   "id": "36de34d0",
   "metadata": {},
   "outputs": [
    {
     "name": "stdout",
     "output_type": "stream",
     "text": [
      "{'population_keywords': ['adult male', 'men', 'young adult', 'healthy male'], 'intervetion_keywords': ['HDL increase', 'cholesterol therapy', 'lipid management', 'diet', 'exercise', 'lifestyle modification', 'supplements'], 'comparator_keywords': ['placebo', 'standard care', 'no intervention'], 'outcome_keywords': ['HDL cholesterol', 'high density lipoprotein', 'lipid profile', 'cardiovascular risk']}\n"
     ]
    }
   ],
   "source": [
    "raw_pico_terms = formulate_pico(research_question, context)\n",
    "\n",
    "print(raw_pico_terms)"
   ]
  },
  {
   "cell_type": "markdown",
   "id": "d02d3707",
   "metadata": {},
   "source": [
    "### By reducing the context down to one specific research question, and removing the conversation history (but keeping the initial context), we get pretty good performance !"
   ]
  },
  {
   "cell_type": "code",
   "execution_count": 4,
   "id": "68655f06",
   "metadata": {},
   "outputs": [],
   "source": [
    "import asyncio\n",
    "from concurrent.futures import ThreadPoolExecutor, as_completed\n",
    "\n",
    "# Usage\n",
    "data = {\n",
    "    'population_keywords': ['adult male', 'men', 'young adult', 'male', 'healthy male'], \n",
    "    'intervetion_keywords': ['diet', 'exercise', 'lifestyle', 'omega-3', 'niacin', 'fibrates', 'statins', 'alcohol', 'physical activity', 'weight loss', 'nutraceuticals'], \n",
    "    'comparator_keywords': ['placebo', 'control', 'usual care'], \n",
    "    'outcome_keywords': ['HDL cholesterol', 'high density lipoprotein', 'HDL-C', 'lipoproteins', 'cholesterol', 'cardiovascular risk', 'lipid profile']\n",
    "}\n",
    "\n",
    "results = await run_parallel_mesh_queries(data, max_workers=5)\n",
    "\n",
    "mesh_result_context = str(results)\n",
    "    "
   ]
  },
  {
   "cell_type": "markdown",
   "id": "de300fce",
   "metadata": {},
   "source": [
    "### Again, naïve approach: these outputs may not even really need parsing to be useful to the LLM \n",
    "- It's about 36k tokens, let's feed them as-is\n",
    "\n"
   ]
  },
  {
   "cell_type": "code",
   "execution_count": 5,
   "id": "f9e35e06",
   "metadata": {},
   "outputs": [
    {
     "name": "stdout",
     "output_type": "stream",
     "text": [
      "((\"men\"[MeSH Terms] OR \"male\"[MeSH Terms]) AND (\"young adult\"[MeSH Terms] OR \"adult\"[MeSH Terms])) AND (\"cholesterol, hdl\"[MeSH Terms] OR \"lipoproteins, hdl\"[MeSH Terms]) AND (\"diet\"[MeSH Terms] OR \"exercise\"[MeSH Terms] OR \"life style\"[MeSH Terms] OR \"dietary supplements\"[MeSH Terms] OR \"fatty acids, omega-3\"[MeSH Terms] OR \"niacin\"[MeSH Terms] OR \"fibric acids\"[MeSH Terms] OR \"hydroxymethylglutaryl-coa reductase inhibitors\"[MeSH Terms]) AND (\"prevention and control\"[Subheading] OR \"therapy\"[Subheading])\n"
     ]
    }
   ],
   "source": [
    "results = formulate_esearch_query(\n",
    "    research_question,\n",
    "    context,\n",
    "    raw_pico_terms,\n",
    "    mesh_result_context\n",
    ")\n",
    "query = results.content[0].text\n",
    "\n",
    "print(query)"
   ]
  },
  {
   "cell_type": "code",
   "execution_count": 6,
   "id": "eca1936c",
   "metadata": {},
   "outputs": [],
   "source": [
    "query = '((\"HDL cholesterol\"[MeSH Terms] OR \"high density lipoprotein\"[Title/Abstract] OR \"HDL-C\"[Title/Abstract]) AND (\"male\"[MeSH Terms] OR \"men\"[MeSH Terms] OR \"adult male\"[Title/Abstract] OR \"young adult\"[MeSH Terms]) AND (\"diet\"[MeSH Terms] OR \"exercise\"[MeSH Terms] OR \"lifestyle\"[MeSH Terms] OR \"niacin\"[MeSH Terms] OR \"fibrates\"[MeSH Terms] OR \"statins\"[MeSH Terms] OR \"omega-3\"[MeSH Terms] OR \"physical activity\"[Title/Abstract] OR \"weight loss\"[MeSH Terms])) AND (\"therapy\"[Subheading] OR \"treatment outcome\"[MeSH Terms])'\n",
    "\n",
    "abstracts_ids = await esearch_abstracts(query)\n",
    "\n",
    "abstracts_ids_list = abstracts_ids[\"esearchresult\"][\"idlist\"]\n",
    "webenv = abstracts_ids[\"esearchresult\"][\"webenv\"]\n",
    "query_key = abstracts_ids[\"esearchresult\"][\"querykey\"]"
   ]
  },
  {
   "cell_type": "code",
   "execution_count": 7,
   "id": "69e07641",
   "metadata": {},
   "outputs": [
    {
     "name": "stdout",
     "output_type": "stream",
     "text": [
      "✅ Successfully parsed 15 articles from PubMed\n",
      "{'title': 'Beneficial Effect of the Mediterranean Diet on the Reduction of Prediabetes-Results of the Bialystok PLUS Study.', 'abstract': 'NotFound', 'pagination': '', 'link': 'https://pubmed.ncbi.nlm.nih.gov/40573145'}\n",
      "{'title': 'Adherence to Mediterranean Diet and Implications for Cardiovascular Risk Prevention.', 'abstract': 'NotFound', 'pagination': '', 'link': 'https://pubmed.ncbi.nlm.nih.gov/40573102'}\n",
      "{'title': 'NotFound', 'abstract': 'Excessive fat intake results in lipid metabolic disorders accompanied by inflammation and other complications. However, the effectiveness of drug interventions for metabolic disorders is not ideal, owing to their inherent limitations. Here, we introduce the probiotic ', 'pagination': '1519058', 'link': 'https://pubmed.ncbi.nlm.nih.gov/40547525'}\n",
      "{'title': 'Effects of combined diet and physical activity on glycemic control and body composition in male recreational athletes with type 2 diabetes mellitus.', 'abstract': 'Type 2 diabetes mellitus (T2DM) is associated with metabolic and cardiovascular complications. While physical activity and dietary modifications are established interventions, their combined effects in active male populations remain underexplored.', 'pagination': '1525559', 'link': 'https://pubmed.ncbi.nlm.nih.gov/40547524'}\n",
      "{'title': 'Visceral adiposity loss is associated with improvement in cardiometabolic markers: findings from a dietary intervention study.', 'abstract': 'Visceral adiposity is closely linked with cardiometabolic disorders, but evidence on the extent of visceral fat loss required for significant improvement in cardiometabolic markers remains limited. This study aims to investigate the association between visceral fat area (VFA) reductions and improvements in cardiometabolic markers following a 3-month dietary intervention.', 'pagination': '1576599', 'link': 'https://pubmed.ncbi.nlm.nih.gov/40535330'}\n",
      "{'title': 'Effects of Weight Loss on Insulin Resistance and Liver Health in T2DM and NAFLD Patients.', 'abstract': 'BACKGROUND The rising comorbidity of T2DM and MASLD, driven by insulin resistance (IR), underscores the need for effective interventions. This study evaluated the impact of a 3-month structured lifestyle intervention on hepatic steatosis, IR, and metabolic parameters in patients with T2DM-MASLD. MATERIAL AND METHODS Thirty-seven patients received personalized low-calorie diets and exercise regimens. Hepatic fat was quantified via MRI-PDFF, with biochemical parameters and HOMA-IR assessed at baseline and after intervention. Participants were stratified into compliant (³5% weight loss, n=26) and non-compliant groups (<5%, n=11). RESULTS Both groups had significant reductions in BMI and hepatic fat fraction (p<0.05), with greater improvements in the compliant group. The compliant group had significant improvements in TBIL, AST, ALT, HDL-c, and HOMA-IR (a significant 31.2% reduction in HOMA-IR [p<0.001]). Multivariate analysis revealed that MRI-PDFF explained 42.5% of hepatic fat variability. CONCLUSIONS A 5% weight loss threshold effectively ameliorates hepatic steatosis and IR, reinforcing lifestyle modification as a cornerstone in T2DM-MASLD management. Integration of digital monitoring tools enhances compliance, addressing a critical barrier in real-world implementation.', 'pagination': 'e947157', 'link': 'https://pubmed.ncbi.nlm.nih.gov/40522909'}\n",
      "{'title': 'NotFound', 'abstract': 'Obesity and metabolic dysfunction-associated steatotic liver disease (MASLD) are major contributors to the rise in metabolic disorders, particularly in developed countries. Despite the need for effective therapies, natural product-based interventions remain underexplored. This study investigated the therapeutic effects of ', 'pagination': '', 'link': 'https://pubmed.ncbi.nlm.nih.gov/40507912'}\n",
      "{'title': \"3,3'-Diindolylmethane Ameliorates Metabolism Dysfunction-Associated Fatty Liver Disease via AhR/p38 MAPK Signaling.\", 'abstract': 'NotFound', 'pagination': '', 'link': 'https://pubmed.ncbi.nlm.nih.gov/40431421'}\n",
      "{'title': 'A village doctor-led mobile health intervention for cardiovascular risk reduction in rural China: cluster randomised controlled trial.', 'abstract': 'To assess the effectiveness of a village doctor-led mobile health intervention on cardiovascular risk reduction among residents in rural China.', 'pagination': 'e082765', 'link': 'https://pubmed.ncbi.nlm.nih.gov/40425261'}\n",
      "{'title': 'The value of triglyceride glucose-body mass index, fasting blood glucose to HDL-C ratio, and platelet to HDL-C ratio in predicting abdominal aortic calcification in maintenance hemodialysis patients.', 'abstract': 'The triglyceride glucose-body mass index (TyG-BMI), fasting blood glucose (FBG) to high-density lipoprotein cholesterol (HDL-C) ratio (GHR), and platelet (PLT) to HDL-C ratio (PHR) are well-established markers of insulin resistance (IR), closely linked to cardiovascular and cerebrovascular diseases. Abdominal aortic calcification (AAC), a key indicator of subclinical atherosclerotic, is highly prevalent in maintenance hemodialysis (MHD) patients. This study aimed to explore the cross-sectional relationship between these IR indices and AAC in MHD patients and identify the most reliable predictive marker.', 'pagination': '2505699', 'link': 'https://pubmed.ncbi.nlm.nih.gov/40419409'}\n",
      "{'title': 'Evaluation of one-stop diagnosis and management at the collaborative national standardized metabolic disease management center.', 'abstract': 'To evaluate the effectiveness of diagnosis and treatment at the collaborative National Standardized Metabolic Disease Management Center.', 'pagination': '1490131', 'link': 'https://pubmed.ncbi.nlm.nih.gov/40405971'}\n",
      "{'title': 'Magnoflorine alleviates nonalcoholic fatty liver disease by modulating lipid metabolism, mitophagy and inflammation.', 'abstract': 'Nonalcoholic fatty liver disease (NAFLD) is a prevalent liver condition associated with metabolic syndrome, often aggravated by inflammation and mitochondrial dysfunction. This study aims to explore the therapeutic potential of magnoflorine, an alkaloid with known anti-inflammatory properties, in ameliorating NAFLD by modulating mitochondrial autophagy and inhibiting the NLRP3 inflammasome.', 'pagination': '106997', 'link': 'https://pubmed.ncbi.nlm.nih.gov/40378915'}\n",
      "{'title': 'Protective Effects of Isolated Curcumin From ', 'abstract': 'This study explores the potential of curcumin (CUR), extracted from ', 'pagination': '8050374', 'link': 'https://pubmed.ncbi.nlm.nih.gov/40376699'}\n",
      "{'title': 'Effects of Celastrol-Enriched Peanuts on Metabolic Health and the Development of Atherosclerosis.', 'abstract': 'Celastrol, a pentacyclic triterpenoid active component isolated from the root bark of the traditional medicinal plant Tripterygium wilfordii, displays significant anti-inflammatory, antioxidant, and immunomodulatory properties. However, its clinical application remains limited due to inadequate bioavailability.', 'pagination': '', 'link': 'https://pubmed.ncbi.nlm.nih.gov/40362727'}\n",
      "{'title': 'Combination of Berberine and Evodiamine Alleviates Obesity by Promoting Browning in 3T3-L1 Cells and High-Fat Diet-Induced Mice.', 'abstract': 'Traditional Chinese medicine has long acknowledged the therapeutic potential of ', 'pagination': '', 'link': 'https://pubmed.ncbi.nlm.nih.gov/40362407'}\n"
     ]
    }
   ],
   "source": [
    "efetch_result = await efetch_query_with_key(query_key, webenv)\n",
    "\n",
    "for i, article in enumerate(efetch_result):\n",
    "    article[\"link\"] = \"https://pubmed.ncbi.nlm.nih.gov/\" + article[\"pmid\"]\n",
    "    article.pop(\"pmid\")\n",
    "    article.pop(\"doi\")\n",
    "    efetch_result[i] = str(article)\n",
    "\n",
    "parsed_efetch_result = \"\\n\".join(efetch_result)\n",
    "print(parsed_efetch_result)"
   ]
  },
  {
   "cell_type": "markdown",
   "id": "06c431c2",
   "metadata": {},
   "source": [
    "# The full pipeline"
   ]
  },
  {
   "cell_type": "code",
   "execution_count": 8,
   "id": "e1b8b871",
   "metadata": {},
   "outputs": [
    {
     "name": "stdout",
     "output_type": "stream",
     "text": [
      "✅ Successfully parsed 1 articles from PubMed\n",
      "{'status': 'success', 'answer': \"# Strategies to Increase HDL Cholesterol in Adult Males\\n\\n## Direct Answer\\nBased on the search results, there is limited direct evidence from the provided abstracts specifically addressing strategies to increase HDL cholesterol in adult males. The most relevant study examined red grape seed extract (RGSE) as a potential intervention for improving lipid profiles, including HDL-C, in patients with mild to moderate hyperlipidemia.\\n\\n## Summary of Most Relevant Study\\n**Red grape seed extract for hyperlipidemia** (Gharipour et al.)\\n- RGSE contains oligomeric proanthocyanidin complexes (flavonoids) that function as potent antioxidants\\n- The study examined RGSE's effects on various lipid parameters including HDL-C in patients with mild to moderate hyperlipidemia\\n- While the abstract doesn't specify the results for HDL-C specifically, it investigated RGSE as a potential natural intervention for improving lipid profiles\\n\\n## Recommendations for This Patient\\nBased on the limited evidence from the search results and the patient's profile (HDL decreased from 80 mg/dL to 38 mg/dL over one year):\\n\\n1. **Consult with a healthcare provider** to investigate the significant drop in HDL levels (from optimal to borderline low)\\n2. **Consider evidence-based lifestyle modifications** known to increase HDL:\\n   - Regular aerobic exercise (30+ minutes most days)\\n   - Dietary changes: increase consumption of omega-3 fatty acids, olive oil, and fiber\\n   - Moderate alcohol consumption (if appropriate)\\n   - Weight management (though the patient's weight appears healthy)\\n3. **Explore supplements** like red grape seed extract under medical supervision\\n4. **Address other cardiovascular risk factors** - the patient's lipoprotein levels are critically high (750 mg/L)\\n\\n## Most Relevant Article\\n- [The effect of red grape seed extract on serum paraoxonase activity in patients with mild to moderate hyperlipidemia](https://pubmed.ncbi.nlm.nih.gov/27191247)\\n\\n## Confidence Assessment\\n**Low confidence** in providing specific recommendations based solely on the search results provided. The search returned limited directly relevant studies addressing HDL increase strategies specifically in adult males. A more comprehensive search strategy or consultation with clinical guidelines would be necessary to provide evidence-based recommendations for this patient's significant HDL decrease.\\n\\nNote: The patient should be particularly concerned about the critically high lipoprotein levels (750 mg/L), which represents a more significant cardiovascular risk factor than the low HDL and warrants medical attention.\", 'query_used': '((\"men\"[MeSH Terms] OR \"young adult\"[MeSH Terms]) AND (\"cholesterol, hdl\"[MeSH Terms] OR \"lipoproteins, hdl\"[MeSH Terms])) AND ((\"diet\"[MeSH Terms] OR \"exercise\"[MeSH Terms] OR \"life style\"[MeSH Terms] OR supplements[All Fields] OR \"pharmaceutical preparations\"[MeSH Terms]) AND (\"placebos\"[MeSH Terms] OR \"standard care\"[All Fields] OR \"no intervention\"[All Fields])) AND (\"dyslipidemias\"[MeSH Terms] OR \"heart disease risk factors\"[MeSH Terms])', 'total_abstracts': 15, 'raw_results': [\"{'title': 'The effect of red grape seed extract on serum paraoxonase activity in patients with mild to moderate hyperlipidemia.', 'abstract': 'Red grape seed extract (RGSE) contains oligomeric proanthocyanidin complexes as a class of flavonoids. These compounds are potent antioxidants and exert many health-promoting effects. This study aimed to determine the effects of RGSE on serum levels of triglycerides (TG), total cholesterol (TC), high-density lipoprotein cholesterol (HDL-C), low-density lipoprotein cholesterol (LDL-C), apolipoprotein AI (apo-AI) levels and paraoxonase (PON) activity in patients with mild to moderate hyperlipidemia (MMH).', 'pagination': '234-239', 'link': 'https://pubmed.ncbi.nlm.nih.gov/27191247'}\"]}\n"
     ]
    }
   ],
   "source": [
    "# Run the simplified automated research pipeline\n",
    "result = await simple_research_pipeline(\n",
    "    research_question=research_question,\n",
    "    context=context\n",
    ")\n",
    "\n",
    "if result['status'] == 'success':\n",
    "    print(result)\n",
    "    \n",
    "elif result['status'] == 'no_results':\n",
    "    print(\"\\nNo results found for the research question\")\n",
    "    print(f\"Query used: {result['query']}\")\n",
    "    \n",
    "else:\n",
    "    print(f\"\\nError occurred: {result.get('error', 'Unknown error')}\")"
   ]
  }
 ],
 "metadata": {
  "kernelspec": {
   "display_name": ".venv",
   "language": "python",
   "name": "python3"
  },
  "language_info": {
   "codemirror_mode": {
    "name": "ipython",
    "version": 3
   },
   "file_extension": ".py",
   "mimetype": "text/x-python",
   "name": "python",
   "nbconvert_exporter": "python",
   "pygments_lexer": "ipython3",
   "version": "3.12.2"
  }
 },
 "nbformat": 4,
 "nbformat_minor": 5
}
