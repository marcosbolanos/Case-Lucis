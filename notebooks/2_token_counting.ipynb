{
 "cells": [
  {
   "cell_type": "code",
   "execution_count": null,
   "id": "dbd15620",
   "metadata": {},
   "outputs": [],
   "source": [
    "import pandas as pd\n",
    "import json\n",
    "from langchain_core.messages.utils import count_tokens_approximately"
   ]
  },
  {
   "cell_type": "markdown",
   "id": "59d8489e",
   "metadata": {},
   "source": [
    "# Let's start by examining the number of tokens in our data"
   ]
  },
  {
   "cell_type": "code",
   "execution_count": 4,
   "id": "eb2b23a8",
   "metadata": {},
   "outputs": [],
   "source": [
    "with open(\"../data/data_sample.json\", \"r\") as f: \n",
    "    data = json.load(f)"
   ]
  },
  {
   "cell_type": "code",
   "execution_count": 12,
   "id": "3fdbb454",
   "metadata": {},
   "outputs": [
    {
     "name": "stdout",
     "output_type": "stream",
     "text": [
      "7690650\n"
     ]
    }
   ],
   "source": [
    "data_str = json.dumps(data, indent=4)\n",
    "\n",
    "count = count_tokens_approximately(data_str)\n",
    "print(count)"
   ]
  },
  {
   "cell_type": "markdown",
   "id": "2c049dbd",
   "metadata": {},
   "source": [
    "### The data contains 7.7 million tokens, so it won't fit in a context window\n",
    "### Claude has a context window of 500k, so at most that's about 1/16th of our data\n",
    "### Let's see how many tokens we have on the filtered version of our dataset"
   ]
  },
  {
   "cell_type": "code",
   "execution_count": 13,
   "id": "a5df3628",
   "metadata": {},
   "outputs": [
    {
     "name": "stdout",
     "output_type": "stream",
     "text": [
      "2492470\n"
     ]
    }
   ],
   "source": [
    "with open(\"../data/filtered_data1.csv\", \"r\", encoding=\"utf-8\") as f:\n",
    "    csv_string = f.read()\n",
    "\n",
    "count = count_tokens_approximately(csv_string)\n",
    "print(count)"
   ]
  },
  {
   "cell_type": "code",
   "execution_count": 31,
   "id": "e288b448",
   "metadata": {},
   "outputs": [],
   "source": [
    "df = pd.read_csv(\"../data/filtered_data1.csv\")"
   ]
  },
  {
   "cell_type": "markdown",
   "id": "494516e9",
   "metadata": {},
   "source": [
    "### The filtered csv has about 66% less tokens, at 2.5 million. Still too big, but better, plus it contains all of the info\n",
    "\n",
    "### Let's now try out the dataframe that only contains the main metrics"
   ]
  },
  {
   "cell_type": "code",
   "execution_count": 42,
   "id": "bbcf3aef",
   "metadata": {},
   "outputs": [
    {
     "name": "stdout",
     "output_type": "stream",
     "text": [
      "36185\n"
     ]
    }
   ],
   "source": [
    "with open(\"../data/metrics_only.csv\", \"r\", encoding=\"utf-8\") as f:\n",
    "    csv_string = f.read()\n",
    "\n",
    "count = count_tokens_approximately(csv_string)\n",
    "print(count)"
   ]
  },
  {
   "cell_type": "code",
   "execution_count": 43,
   "id": "598f3b25",
   "metadata": {},
   "outputs": [
    {
     "name": "stdout",
     "output_type": "stream",
     "text": [
      ",biomarker.internalName,value,unit,deviationType,rangeType,visitDatetime\n",
      "11,albumin,47.0,g/L,WITHIN_RANGE,LONGEVITY_GOOD,2024-05-09 12:00:00\n",
      "80,albumin,45.0,g/L,WITHIN_RANGE,LONGEVITY_GOOD,2025-04-23 00:00:00\n",
      "4,alp,81.0,U/L,WITHIN_RANGE,LONGEVITY_GOOD,2024-05-09 12:00:00\n",
      "73,alp,113.0,U/L,WITHIN_RANGE,LONGEVITY_GOOD,2025-04-23 00:00:00\n",
      "20,alt,42.0,U/L,WITHIN_RANGE,LONGEVITY_GOOD,2024-05-09 12:00:00\n",
      "71,alt,38.0,U/L,WITHIN_RANGE,LONGEVITY_GOOD,2025-04-23 00:00:00\n",
      "2,apolipoprotein-b,47.0,mg/dL,WITHIN_RANGE,LONGEVITY_GOOD,2024-05-09 12:00:00\n",
      "62,apolipoprotein-b,80.0,mg/dL,WITHIN_RANGE,LONGEVITY_GOOD,2025-04-23 00:00:00\n",
      "39,ast,48.0,U/L,ABOVE,MEDICAL_BORDERLINE,2024-05-09 12:00:00\n",
      "70,ast,34.0,U/L,WITHIN_RANGE,LONGEVITY_GOOD,2025-04-23 00:00:00\n",
      "47,bioavailable-testosterone,74.0,ng/dL,BELOW,MEDICAL_BORDERLINE,2024-05-09 12:00:00\n",
      "50,bioavailable-testosterone,82.0,ng/dL,WITHIN_RANGE,MEDICAL_STANDARD,2025-04-23 00:00:00\n",
      "42,biological-age,23.05,years old,WITHIN_RANGE,LONGEVITY_GOOD,2024-05-09 12:00:00\n",
      "40,calcitonin,8.8,pg/mL,ABOVE,MEDICAL_BORDERLINE,2024-05-09 12:00:00\n",
      "98,calcitonin,2.3,pg/mL,WITHIN_RANGE,LONGEVITY_GOOD,2025-04-23 00:00:00\n",
      "34,calcium,90.0,mg/L,WITHIN_RANGE,LONGEVITY_GOOD,2024-05-09 12:00:00\n",
      "93,calcium,90.0,mg/L,WITHIN_RANGE,LONGEVITY_GOOD,2025-04-23 00:00:00\n",
      "28,cholesterol-hdl-ratio,1.79,,WITHIN_RANGE,LONGEVITY_GOOD,2024-05-09 12:00:00\n",
      "95,cholesterol-hdl-ratio,4.01,,WITHIN_RANGE,MEDICAL_STANDARD,2025-04-23 00:00:00\n",
      "13,conjugated-bilirubin,0.18,mg/dL,WITHIN_RANGE,LONGEVITY_GOOD,2024-05-09 12:00:00\n",
      "76,conjugated-bilirubin,0.25,mg/dL,WITHIN_RANGE,LONGEVITY_GOOD,2025-04-23 00:00:00\n",
      "19,creatinine,0.94,mg/dL,WITHIN_RANGE,LONGEVITY_GOOD,2024-05-09 12:00:00\n",
      "77,creatinine,1.1,mg/dL,WITHIN_RANGE,LONGEVITY_GOOD,2025-04-23 00:00:00\n",
      "6,crp,0.33,mg/L,WITHIN_RANGE,LONGEVITY_GOOD,2024-05-09 12:00:00\n",
      "84,crp,0.45,mg/L,WITHIN_RANGE,LONGEVITY_GOOD,2025-04-23 00:00:00\n",
      "43,dhea,7.2,ng/mL,BELOW,MEDICAL_BORDERLINE,2024-05-09 12:00:00\n",
      "52,dhea,8.3,ng/mL,WITHIN_RANGE,MEDICAL_STANDARD,2025-04-23 00:00:00\n",
      "24,egfr,110.0,mL/min,WITHIN_RANGE,LONGEVITY_GOOD,2024-05-09 12:00:00\n",
      "94,egfr,91.0,mL/min,WITHIN_RANGE,LONGEVITY_GOOD,2025-04-23 00:00:00\n",
      "37,fasting-blood-sugar,0.88,g/L,ABOVE,MEDICAL_BORDERLINE,2024-05-09 12:00:00\n",
      "66,fasting-blood-sugar,0.88,g/L,WITHIN_RANGE,MEDICAL_BORDERLINE,2025-04-23 00:00:00\n",
      "5,ferritine,55.0,μg/L,WITHIN_RANGE,LONGEVITY_GOOD,2024-05-09 12:00:00\n",
      "67,ferritine,157.0,μg/L,WITHIN_RANGE,MEDICAL_STANDARD,2025-04-23 00:00:00\n",
      "48,free-testosterone,5.2,pg/mL,BELOW,MEDICAL_BORDERLINE,2024-05-09 12:00:00\n",
      "51,free-testosterone,10.8,pg/mL,WITHIN_RANGE,MEDICAL_STANDARD,2025-04-23 00:00:00\n",
      "18,ggt,16.0,U/L,WITHIN_RANGE,LONGEVITY_GOOD,2024-05-09 12:00:00\n",
      "74,ggt,24.0,U/L,WITHIN_RANGE,LONGEVITY_GOOD,2025-04-23 00:00:00\n",
      "36,hba1c,4.9,%,WITHIN_RANGE,MEDICAL_STANDARD,2024-05-09 12:00:00\n",
      "64,hba1c,5.3,%,WITHIN_RANGE,MEDICAL_STANDARD,2025-04-23 00:00:00\n",
      "1,hdl-cholesterol,80.0,mg/dL,WITHIN_RANGE,LONGEVITY_GOOD,2024-05-09 12:00:00\n",
      "61,hdl-cholesterol,38.0,mg/dL,BELOW,MEDICAL_BORDERLINE,2025-04-23 00:00:00\n",
      "30,hemoglobin,14.3,g/dL,WITHIN_RANGE,LONGEVITY_GOOD,2024-05-09 12:00:00\n",
      "89,hemoglobin,15.9,g/dL,WITHIN_RANGE,LONGEVITY_GOOD,2025-04-23 00:00:00\n",
      "8,homa,0.523,,WITHIN_RANGE,LONGEVITY_GOOD,2024-05-09 12:00:00\n",
      "69,homa,1.176,,WITHIN_RANGE,LONGEVITY_GOOD,2025-04-23 00:00:00\n",
      "3,insulin,2.4,μUI/mL,WITHIN_RANGE,LONGEVITY_GOOD,2024-05-09 12:00:00\n",
      "65,insulin,5.4,μUI/mL,WITHIN_RANGE,MEDICAL_STANDARD,2025-04-23 00:00:00\n",
      "22,ldl-cholesterol,58.0,mg/dL,WITHIN_RANGE,LONGEVITY_GOOD,2024-05-09 12:00:00\n",
      "60,ldl-cholesterol,99.0,mg/dL,WITHIN_RANGE,LONGEVITY_GOOD,2025-04-23 00:00:00\n",
      "16,lipases,39.0,U/L,WITHIN_RANGE,LONGEVITY_GOOD,2024-05-09 12:00:00\n",
      "72,lipases,23.0,U/L,WITHIN_RANGE,MEDICAL_STANDARD,2025-04-23 00:00:00\n",
      "49,lipoprotein,333.0,mg/L,ABOVE,MEDICAL_CRITICAL,2024-05-09 12:00:00\n",
      "63,lipoprotein,750.0,mg/L,ABOVE,MEDICAL_CRITICAL,2025-04-23 00:00:00\n",
      "99,lymphocytes,1.1,giga/L,BELOW,MEDICAL_BORDERLINE,2024-05-09 12:00:00\n",
      "88,lymphocytes,1.9,giga/L,WITHIN_RANGE,LONGEVITY_GOOD,2025-04-23 00:00:00\n",
      "29,lymphocytes-percentage,30.5,%,WITHIN_RANGE,LONGEVITY_GOOD,2024-05-09 12:00:00\n",
      "87,lymphocytes-percentage,30.2,%,WITHIN_RANGE,LONGEVITY_GOOD,2025-04-23 00:00:00\n",
      "25,magnesium,1.9,mg/dL,WITHIN_RANGE,LONGEVITY_GOOD,2024-05-09 12:00:00\n",
      "96,magnesium,1.9,mg/dL,WITHIN_RANGE,LONGEVITY_GOOD,2025-04-23 00:00:00\n",
      "23,mcv,95.3,µm3,WITHIN_RANGE,LONGEVITY_GOOD,2024-05-09 12:00:00\n",
      "86,mcv,90.1,µm3,WITHIN_RANGE,LONGEVITY_GOOD,2025-04-23 00:00:00\n",
      "26,mpv,10.8,fL,WITHIN_RANGE,LONGEVITY_GOOD,2024-05-09 12:00:00\n",
      "97,mpv,10.4,fL,WITHIN_RANGE,LONGEVITY_GOOD,2025-04-23 00:00:00\n",
      "35,platelet,150.0,giga/L,WITHIN_RANGE,LONGEVITY_GOOD,2024-05-09 12:00:00\n",
      "85,platelet,232.0,giga/L,WITHIN_RANGE,LONGEVITY_GOOD,2025-04-23 00:00:00\n",
      "12,potassium,4.2,mmol/L,WITHIN_RANGE,LONGEVITY_GOOD,2024-05-09 12:00:00\n",
      "81,potassium,4.4,mmol/L,WITHIN_RANGE,LONGEVITY_GOOD,2025-04-23 00:00:00\n",
      "27,progesterone,0.16,ng/mL,WITHIN_RANGE,LONGEVITY_GOOD,2024-05-09 12:00:00\n",
      "100,progesterone,0.22,ng/mL,WITHIN_RANGE,MEDICAL_STANDARD,2025-04-23 00:00:00\n",
      "32,psa,0.175,ng/mL,WITHIN_RANGE,LONGEVITY_GOOD,2024-05-09 12:00:00\n",
      "91,psa,0.492,ng/mL,WITHIN_RANGE,LONGEVITY_GOOD,2025-04-23 00:00:00\n",
      "33,pth,39.0,pg/mL,WITHIN_RANGE,LONGEVITY_GOOD,2024-05-09 12:00:00\n",
      "92,pth,27.0,pg/mL,WITHIN_RANGE,LONGEVITY_GOOD,2025-04-23 00:00:00\n",
      "31,rdw,12.6,%,WITHIN_RANGE,LONGEVITY_GOOD,2024-05-09 12:00:00\n",
      "90,rdw,11.7,%,WITHIN_RANGE,LONGEVITY_GOOD,2025-04-23 00:00:00\n",
      "15,sodium,138.0,mmol/L,WITHIN_RANGE,LONGEVITY_GOOD,2024-05-09 12:00:00\n",
      "82,sodium,140.0,mmol/L,WITHIN_RANGE,LONGEVITY_GOOD,2025-04-23 00:00:00\n",
      "44,t3-free,1.9,pg/mL,BELOW,MEDICAL_BORDERLINE,2024-05-09 12:00:00\n",
      "54,t3-free,3.3,pg/mL,WITHIN_RANGE,LONGEVITY_GOOD,2025-04-23 00:00:00\n",
      "45,t4,0.77,ng/dL,BELOW,MEDICAL_BORDERLINE,2024-05-09 12:00:00\n",
      "55,t4,1.15,ng/dL,WITHIN_RANGE,LONGEVITY_GOOD,2025-04-23 00:00:00\n",
      "14,total-bilirubin,0.38,mg/dL,WITHIN_RANGE,LONGEVITY_GOOD,2024-05-09 12:00:00\n",
      "75,total-bilirubin,0.68,mg/dL,WITHIN_RANGE,LONGEVITY_GOOD,2025-04-23 00:00:00\n",
      "0,total-cholesterol,143.0,mg/dL,WITHIN_RANGE,LONGEVITY_GOOD,2024-05-09 12:00:00\n",
      "59,total-cholesterol,152.0,mg/dL,WITHIN_RANGE,LONGEVITY_GOOD,2025-04-23 00:00:00\n",
      "7,triglycerides,0.24,g/L,WITHIN_RANGE,LONGEVITY_GOOD,2024-05-09 12:00:00\n",
      "68,triglycerides,0.74,g/L,WITHIN_RANGE,LONGEVITY_GOOD,2025-04-23 00:00:00\n",
      "10,tsh,2.47,mUI/L,WITHIN_RANGE,LONGEVITY_GOOD,2024-05-09 12:00:00\n",
      "53,tsh,1.27,mUI/L,WITHIN_RANGE,LONGEVITY_GOOD,2025-04-23 00:00:00\n",
      "38,urea,0.47,g/L,ABOVE,MEDICAL_BORDERLINE,2024-05-09 12:00:00\n",
      "78,urea,0.43,g/L,WITHIN_RANGE,MEDICAL_STANDARD,2025-04-23 00:00:00\n",
      "17,uric-acid,45.0,mg/L,WITHIN_RANGE,LONGEVITY_GOOD,2024-05-09 12:00:00\n",
      "79,uric-acid,49.0,mg/L,WITHIN_RANGE,LONGEVITY_GOOD,2025-04-23 00:00:00\n",
      "21,vitamin-b12,303.0,pg/mL,WITHIN_RANGE,LONGEVITY_GOOD,2024-05-09 12:00:00\n",
      "58,vitamin-b12,721.0,pg/mL,WITHIN_RANGE,MEDICAL_STANDARD,2025-04-23 00:00:00\n",
      "9,vitamin-b9,10.7,ng/mL,WITHIN_RANGE,LONGEVITY_GOOD,2024-05-09 12:00:00\n",
      "57,vitamin-b9,11.8,ng/mL,WITHIN_RANGE,LONGEVITY_GOOD,2025-04-23 00:00:00\n",
      "46,vitamin-d,46.0,ng/mL,BELOW,MEDICAL_BORDERLINE,2024-05-09 12:00:00\n",
      "56,vitamin-d,23.0,ng/mL,BELOW,MEDICAL_BORDERLINE,2025-04-23 00:00:00\n",
      "41,wbc,3.7,giga/L,BELOW,MEDICAL_BORDERLINE,2024-05-09 12:00:00\n",
      "83,wbc,6.2,giga/L,WITHIN_RANGE,LONGEVITY_GOOD,2025-04-23 00:00:00\n",
      "\n"
     ]
    }
   ],
   "source": [
    "print(csv_string)"
   ]
  },
  {
   "cell_type": "markdown",
   "id": "2b7169f7",
   "metadata": {},
   "source": [
    "### Alright ! This one only has 36k tokens. We could use it as a starting point. \n",
    "\n",
    "### A naïve approach to this, would be to use the csv as-is in the context, it's pretty LLM-readable"
   ]
  }
 ],
 "metadata": {
  "kernelspec": {
   "display_name": ".venv",
   "language": "python",
   "name": "python3"
  },
  "language_info": {
   "codemirror_mode": {
    "name": "ipython",
    "version": 3
   },
   "file_extension": ".py",
   "mimetype": "text/x-python",
   "name": "python",
   "nbconvert_exporter": "python",
   "pygments_lexer": "ipython3",
   "version": "3.12.2"
  }
 },
 "nbformat": 4,
 "nbformat_minor": 5
}
